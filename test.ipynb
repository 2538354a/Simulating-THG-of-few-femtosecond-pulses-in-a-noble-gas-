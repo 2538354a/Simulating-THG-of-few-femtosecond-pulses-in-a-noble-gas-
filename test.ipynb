{
 "cells": [
  {
   "cell_type": "code",
   "execution_count": null,
   "metadata": {},
   "outputs": [],
   "source": [
    "using PyPlot\n",
    "close(\"all\")\n",
    "pygui(true)\n",
    "\n",
    "# set plot formatting \n",
    "rcParams = PyPlot.PyDict(PyPlot.matplotlib.\"rcParams\") # get rcParams \n",
    "rcParams[\"text.usetex\"] = true # enable LaTeX renadering\n",
    "rcParams[\"mathtext.fontset\"] = \"cm\" # use LateX font for maths\n",
    "rcParams[\"font.family\"] = \"STIXGeneral\" # use LateX font for text\n",
    "rcParams[\"font.size\"] = 16 # set standard font size \n",
    "fig_dim = 2* [3.14961, 2.3622075] # for 8cm width ; double for 16cm width  "
   ]
  }
 ],
 "metadata": {
  "language_info": {
   "name": "python"
  },
  "orig_nbformat": 4
 },
 "nbformat": 4,
 "nbformat_minor": 2
}
