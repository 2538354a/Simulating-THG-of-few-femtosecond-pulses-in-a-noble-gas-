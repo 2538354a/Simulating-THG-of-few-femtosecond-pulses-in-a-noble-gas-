{
 "cells": [
  {
   "cell_type": "code",
   "execution_count": 1,
   "metadata": {},
   "outputs": [],
   "source": [
    "using Luna\n",
    "using  DelimitedFiles \n",
    "import PyPlot:pygui, plt\n",
    "close(\"all\")\n",
    "pygui(true)\n",
    "\n",
    "pres= 3.0\n",
    "gas = :Ar\n",
    "\n",
    "in_dir=\"input\"\n",
    "L = 3e-3\n",
    "p_ed = 1e-3\n",
    "\n",
    "file_ρ    = \"dens_$(pres)bar.dat\"  # name of density profile data file \n",
    "path_ρ    = joinpath(in_dir, file_ρ)                  # sys. path to density profile data file \n",
    "\n",
    "z_in = readdlm(path_ρ,' ', Float64, '\\n')[:,1]        # read in spatial points \n",
    "ρ_in = readdlm(path_ρ,' ', Float64, '\\n')[:,2]        # read in density data \n",
    "z_coms0 = maximum(z_in)/2 - 1.5e-3\n",
    "\n",
    "dens_coms = Maths.CSpline(z_in, ρ_in)                      # interpolate density function \n",
    "    \n",
    "Z= (0, L/2, L)                                        # define points for pressure gradient\n",
    "P= (p_ed, pres, p_ed)  # define values for pressure gradient (see \"p_const\" above)\n",
    "(coren,dens_grad)=Capillary.gradient(gas,Z,P)              # gives n(ω; z) and ρ(z) from pressure profile   \n",
    "       \n",
    "zarr = range(0, L, 100)\n",
    "\n",
    "ρ_grad =   [dens_grad(z) for z in zarr]\n",
    "ρ_coms=    [dens_coms(z_coms0+z) for z in zarr]\n",
    "\n",
    "plt.title(\"Comparison of COMSOL and gradient profiles for $(gas) at $(pres)bar\")\n",
    "plt.plot(zarr*1e3, ρ_grad, label=\"gradient\", color=\"grey\")\n",
    "plt.plot(zarr*1e3, ρ_coms, label=\"COMSOL\", color=\"red\")\n",
    "plt.xlabel(\"Cell position (mm)\")\n",
    "plt.ylabel(\"Number density (1/m³)\")\n",
    "plt.legend()\n",
    "plt.savefig(joinpath(\"output\", \"COMS_grad_comp.png\"), dpi=1000)\n",
    "plt.show()\n"
   ]
  },
  {
   "cell_type": "code",
   "execution_count": 33,
   "metadata": {},
   "outputs": [],
   "source": [
    "gas_arr = [:Ar, :Ne, :He, :Kr, :Xe, :N2, :N2O]\n",
    "dens_grad_arr = [Capillary.gradient(gas,Z,P)[2] for gas in gas_arr]\n",
    "c_arr = [\"black\", \"grey\", \"blue\", \"cyan\", \"orange\", \"green\", \"purple\"]\n",
    "\n",
    "plt.title(\"Comparison of different gas profiles at $(pres)bar\")\n",
    "plt.xlabel(\"Cell position (mm)\")\n",
    "plt.ylabel(\"Number density (1/m³)\")\n",
    "for i in 1:length(gas_arr)\n",
    "    ρ_grad = [dens_grad_arr[i](z) for z in zarr]\n",
    "    plt.plot(zarr*1e3, ρ_grad, label=\"$(gas_arr[i])\", color=c_arr[i])\n",
    "end   \n",
    "plt.plot(zarr*1e3, ρ_coms, label=\"COMSOL\", color=\"red\")\n",
    "plt.legend()\n",
    "plt.savefig(joinpath(\"output\", \"gas_dens_comp.png\"), dpi=1000)\n",
    "plt.show()\n"
   ]
  },
  {
   "cell_type": "code",
   "execution_count": 7,
   "metadata": {},
   "outputs": [
    {
     "data": {
      "text/plain": [
       "741.5133172034373"
      ]
     },
     "metadata": {},
     "output_type": "display_data"
    }
   ],
   "source": [
    "using Luna \n",
    "using  DelimitedFiles\n",
    "\n",
    "in_dir = \"input\"\n",
    "file_IR_spec = \"IRspec.dat\"                   # name of IR FROG input spectrum file \n",
    "path_IR_spec = joinpath(in_dir, file_IR_spec) # sys. path to IR FROG input spectrum file\n",
    " \n",
    "λ = readdlm(path_IR_spec,' ', Float64, '\\n')[:,1]             # read in IR input wavelength data [FROG]\n",
    "I = readdlm(path_IR_spec,' ', Float64, '\\n')[:,2]             # read in IR input spectral data [FROG]\n",
    "\n",
    "#λ0 = Maths.moment(I, λ, 1) / Maths.moment(I,λ,0)\n",
    "\n",
    "λ0 = sum(λ .* I) / sum(I) *1e9 \n"
   ]
  },
  {
   "cell_type": "code",
   "execution_count": 14,
   "metadata": {},
   "outputs": [],
   "source": [
    "import numpy as np\n",
    "import os \n",
    "import pandas as pd \n",
    "\n",
    "in_dir  = \"raw_input\"    # name of input directory containing the raw data\n",
    "out_dir = \"measured_p_scans\"\n",
    "\n",
    "for file in os.listdir(in_dir):\n",
    "\n",
    "    # used for Argon as well as Ne: 2.0bar, 4.0bar, 4.5bar\n",
    "    if (file[:2]==\"Ne\" and (file[9:12]==\"2.0\" or file[9:12]==\"4.0\") ) or file[:2]==\"Ar\":\n",
    "        arr = np.loadtxt(os.path.join(in_dir, file), usecols=(0,1), skiprows=14)\n",
    "        arr[:,0] *= 1e-9\n",
    "        for i in np.arange(len(arr[:,1])):\n",
    "            if arr[i,1] < 0:\n",
    "                arr[i,1]=0\n",
    "\n",
    "        np.savetxt(os.path.join(out_dir, file),arr)\n",
    "    elif file[:2]==\"Ne\":\n",
    "\n",
    "        df = pd.read_table(os.path.join(in_dir, file), usecols=(0,1), skiprows=14,decimal=',')\n",
    "        arr = df.to_numpy(dtype=\"float\")\n",
    "\n",
    "        arr[:,0] *= 1e-9\n",
    "        for i in np.arange(len(arr[:,1])):\n",
    "            if arr[i,1] < 0:\n",
    "                arr[i,1]=0\n",
    "\n",
    "        np.savetxt(os.path.join(out_dir, file),arr)"
   ]
  },
  {
   "cell_type": "code",
   "execution_count": 24,
   "metadata": {},
   "outputs": [
    {
     "ename": "IndexError",
     "evalue": "list index out of range",
     "output_type": "error",
     "traceback": [
      "\u001b[1;31m---------------------------------------------------------------------------\u001b[0m",
      "\u001b[1;31mIndexError\u001b[0m                                Traceback (most recent call last)",
      "\u001b[1;32m~\\AppData\\Local\\Temp/ipykernel_10280/1382315674.py\u001b[0m in \u001b[0;36m<module>\u001b[1;34m\u001b[0m\n\u001b[0;32m      5\u001b[0m \u001b[1;32mfor\u001b[0m \u001b[0mi\u001b[0m \u001b[1;32min\u001b[0m \u001b[0mnp\u001b[0m\u001b[1;33m.\u001b[0m\u001b[0marange\u001b[0m\u001b[1;33m(\u001b[0m\u001b[0mN\u001b[0m\u001b[1;33m)\u001b[0m\u001b[1;33m:\u001b[0m\u001b[1;33m\u001b[0m\u001b[1;33m\u001b[0m\u001b[0m\n\u001b[0;32m      6\u001b[0m \u001b[1;33m\u001b[0m\u001b[0m\n\u001b[1;32m----> 7\u001b[1;33m     \u001b[0mtmp_arr\u001b[0m \u001b[1;33m=\u001b[0m \u001b[0mnp\u001b[0m\u001b[1;33m.\u001b[0m\u001b[0mloadtxt\u001b[0m\u001b[1;33m(\u001b[0m\u001b[0mos\u001b[0m\u001b[1;33m.\u001b[0m\u001b[0mpath\u001b[0m\u001b[1;33m.\u001b[0m\u001b[0mjoin\u001b[0m\u001b[1;33m(\u001b[0m\u001b[0mout_dir\u001b[0m\u001b[1;33m,\u001b[0m\u001b[1;34m\"Ne_400mW_\"\u001b[0m\u001b[1;33m+\u001b[0m\u001b[0mstr\u001b[0m\u001b[1;33m(\u001b[0m\u001b[0mp_arr\u001b[0m\u001b[1;33m[\u001b[0m\u001b[0mi\u001b[0m\u001b[1;33m]\u001b[0m\u001b[1;33m)\u001b[0m\u001b[1;33m+\u001b[0m\u001b[1;34m\"bar.txt\"\u001b[0m\u001b[1;33m)\u001b[0m\u001b[1;33m)\u001b[0m\u001b[1;33m\u001b[0m\u001b[1;33m\u001b[0m\u001b[0m\n\u001b[0m\u001b[0;32m      8\u001b[0m     \u001b[0mlam\u001b[0m \u001b[1;33m=\u001b[0m \u001b[0mtmp_arr\u001b[0m\u001b[1;33m[\u001b[0m\u001b[1;33m:\u001b[0m\u001b[1;33m,\u001b[0m\u001b[1;36m0\u001b[0m\u001b[1;33m]\u001b[0m\u001b[1;33m\u001b[0m\u001b[1;33m\u001b[0m\u001b[0m\n\u001b[0;32m      9\u001b[0m     \u001b[0mI\u001b[0m \u001b[1;33m=\u001b[0m \u001b[0mtmp_arr\u001b[0m\u001b[1;33m[\u001b[0m\u001b[1;33m:\u001b[0m\u001b[1;33m,\u001b[0m\u001b[1;36m1\u001b[0m\u001b[1;33m]\u001b[0m\u001b[1;33m\u001b[0m\u001b[1;33m\u001b[0m\u001b[0m\n",
      "\u001b[1;31mIndexError\u001b[0m: list index out of range"
     ]
    }
   ],
   "source": [
    "N = 12\n",
    "data = np.empty(shape=(N,3), dtype=\"object\")\n",
    "p_arr =[1.0, 1.5, 2.0, 2.5, 3.0, 3.5, 4.0, 4.5] #[0.1, 0.2, 0.3, 0.4, 0.5, 0.6, 0.7, 0.8, 0.9, 1.2, 1.4, 1.6]\n",
    "\n",
    "for i in np.arange(N):\n",
    "\n",
    "    tmp_arr = np.loadtxt(os.path.join(out_dir,\"Ne_400mW_\"+str(p_arr[i])+\"bar.txt\"))\n",
    "    lam = tmp_arr[:,0]\n",
    "    I = tmp_arr[:,1]\n",
    "\n",
    "    data[i,0] = p_arr[i]\n",
    "    data[i,1] = lam \n",
    "    data[i,2] = I "
   ]
  },
  {
   "cell_type": "code",
   "execution_count": 23,
   "metadata": {},
   "outputs": [
    {
     "name": "stdout",
     "output_type": "stream",
     "text": [
      "158.236\n"
     ]
    },
    {
     "data": {
      "image/png": "[encoded data removed]",
      "text/plain": [
       "<Figure size 453.544x340.158 with 2 Axes>"
      ]
     },
     "metadata": {
      "needs_background": "light"
     },
     "output_type": "display_data"
    }
   ],
   "source": [
    "import matplotlib.pyplot as plt \n",
    "\n",
    "# plot settings \n",
    "show = True           # if True: open plots in matplotlib GUI; if False: don't show plots (directly write to file) \n",
    "save = True           # if True: saves plots \n",
    "show_title = False     # if False: no titles shown \n",
    "norm = True           # if True: norm spectra \n",
    "disable_latex = False # if True: disable LaTeX rendering \n",
    "use_pdf = True        # if True: save plots as pdf; else: use png\n",
    "\n",
    "# set plot formatting \n",
    "if disable_latex == False : plt.rcParams[\"text.usetex\"] = True   # enable LaTeX renadering\n",
    "plt.rcParams[\"mathtext.fontset\"] = \"cm\" # use LateX font for maths\n",
    "plt.rcParams[\"font.family\"] = \"STIXGeneral\" # use LateX font for text\n",
    "plt.rcParams[\"font.size\"] = 16 # set standard font size \n",
    "fig_dim = [2 * 3.14961,2* 2.3622075] # for 8cm width ; double for 16cm width\n",
    "\n",
    "plt.figure(figsize=fig_dim) \n",
    "if show_title: plt.title(\"??\")\n",
    "plt.subplots_adjust(top=0.9, bottom=0.14, left=0.16)\n",
    "plt.xlabel('$\\lambda$ (nm)')\n",
    "plt.ylabel(\"Central pressure (bar)\")\n",
    "\n",
    "I_2d  = np.empty((len(data[0,1])-1, len(data[:,0])-1), dtype=\"float\")\n",
    "for i in np.arange(len(data[0,1])-1):      # lam\n",
    "    for j in np.arange(len(data[:,0])-1):  # pres \n",
    "        I_2d[i,j] = data[j, 2][i]\n",
    "\n",
    "X, Y = np.meshgrid(data[0,1].astype(\"float\")*1e9, data[:,0].astype(\"float\"))  \n",
    "I_2d = np.swapaxes(I_2d,0,1) \n",
    "\n",
    "if norm: \n",
    "    plt.pcolormesh(X, Y, I_2d/np.max(I_2d))\n",
    "else:\n",
    "    plt.pcolormesh(X, Y, I_2d)    \n",
    "\n",
    "plt.colorbar(label=\"I (arb. units)\" if norm==False else \"I (norm.)\")\n",
    "#plt.xlim(min(data[0,1])*1e9, max(data[0,1])*1e9)\n",
    "plt.xlim(min(data[0,1])*1e9,360)\n",
    "print(min(data[0,1])*1e9)\n",
    "\n",
    "if save: \n",
    "    if use_pdf:\n",
    "        plt.savefig(os.path.join(out_dir,\"Ne_2d_spectra_pres.pdf\"))\n",
    "    else:\n",
    "        plt.savefig(os.path.join(out_dir,\"Ne_2d_spectra_pres.png\"),dpi=1000)    \n",
    "\n",
    "if show: plt.show()"
   ]
  },
  {
   "cell_type": "code",
   "execution_count": null,
   "metadata": {},
   "outputs": [],
   "source": []
  }
 ],
 "metadata": {
  "kernelspec": {
   "display_name": "Python 3",
   "language": "python",
   "name": "python3"
  },
  "language_info": {
   "codemirror_mode": {
    "name": "ipython",
    "version": 3
   },
   "file_extension": ".py",
   "mimetype": "text/x-python",
   "name": "python",
   "nbconvert_exporter": "python",
   "pygments_lexer": "ipython3",
   "version": "3.9.13"
  },
  "orig_nbformat": 4
 },
 "nbformat": 4,
 "nbformat_minor": 2
}
