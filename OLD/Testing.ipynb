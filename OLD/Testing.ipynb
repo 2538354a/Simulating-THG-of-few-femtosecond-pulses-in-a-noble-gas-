{
 "cells": [
  {
   "cell_type": "code",
   "execution_count": 99,
   "metadata": {},
   "outputs": [
    {
     "ename": "ErrorException",
     "evalue": "syntax: whitespace not allowed after \":\" used for quoting",
     "output_type": "error",
     "traceback": [
      "syntax: whitespace not allowed after \":\" used for quoting\n",
      "\n",
      "Stacktrace:\n",
      " [1] top-level scope\n",
      "   @ c:\\Users\\david\\Documents\\Code\\DESY\\OLD\\Testing.ipynb:6"
     ]
    }
   ],
   "source": [
    "#using Filesystem \n",
    "wd = pwd()\n",
    "\n",
    "#test =joinpath(pwd(), \"OLD\")\n",
    "\n",
    "isdir(\"output\") ?  : mkdir(\"output\")"
   ]
  },
  {
   "cell_type": "code",
   "execution_count": 109,
   "metadata": {},
   "outputs": [
    {
     "data": {
      "text/plain": [
       "\"output\\\\run_2023_07_26__16_53\""
      ]
     },
     "metadata": {},
     "output_type": "display_data"
    }
   ],
   "source": [
    "using Dates\n",
    "\n",
    "save = true                  # if true, saves output plots and run parameters\n",
    "\n",
    "if isdir(\"output\")== false   # create directory to store output\n",
    "    mkdir(\"output\")\n",
    "end    \n",
    "\n",
    "if save == true\n",
    "    mkdir(joinpath(\"output\",\"run_\"*Dates.format(now(), \"yyyy_mm_dd__HH_MM\")))\n",
    "end    "
   ]
  },
  {
   "cell_type": "code",
   "execution_count": 113,
   "metadata": {},
   "outputs": [
    {
     "data": {
      "text/plain": [
       "16"
      ]
     },
     "metadata": {},
     "output_type": "display_data"
    }
   ],
   "source": [
    "\n",
    "gas = :Ar           # gas\n",
    "pres = 0.4          # central gas pressure [bar]\n",
    "p_ed = 1e-3         # edge gas pressure [bar]\n",
    "p_const = false     # if true: set constant pressure profile P==(pres,pres,pres) ; if false: set simple gradient: P==(p_ed, pres, p_ed)\n",
    "τ = 5e-15           # FWHM pulse duration [s]\n",
    "λ0 = 800e-9         # central wavelength [m]\n",
    "w0 = 65e-6          # beam waist [m]\n",
    "energy = 150e-6     # pulse energy [J]\n",
    "L = 2e-3            # propagation distance (cell length) [m]\n",
    "\n",
    "out_path = pwd()\n",
    "\n",
    "open(joinpath(out_path,\"params.txt\"), \"w\") do file\n",
    "    write(file, \"gas     = \"*string(gas)*\"\\n\")\n",
    "    write(file, \"pres    = \"*string(pres)*\"\\n\")\n",
    "    write(file, \"p_ed    = \"*string(p_ed)*\"\\n\")\n",
    "    write(file, \"p_const = \"*string(p_const)*\"\\n\")\n",
    "    write(file, \"tau     = \"*string(τ)*\"\\n\")\n",
    "    write(file, \"lam0    = \"*string(λ0)*\"\\n\")\n",
    "    write(file, \"w0      = \"*string(w0)*\"\\n\")\n",
    "    write(file, \"energy  = \"*string(energy)*\"\\n\")\n",
    "    write(file, \"L       = \"*string(L)*\"\\n\")\n",
    "end\n",
    "\n"
   ]
  },
  {
   "cell_type": "code",
   "execution_count": null,
   "metadata": {},
   "outputs": [],
   "source": []
  }
 ],
 "metadata": {
  "kernelspec": {
   "display_name": "Julia 1.9.0",
   "language": "julia",
   "name": "julia-1.9"
  },
  "language_info": {
   "file_extension": ".jl",
   "mimetype": "application/julia",
   "name": "julia",
   "version": "1.9.0"
  },
  "orig_nbformat": 4
 },
 "nbformat": 4,
 "nbformat_minor": 2
}
