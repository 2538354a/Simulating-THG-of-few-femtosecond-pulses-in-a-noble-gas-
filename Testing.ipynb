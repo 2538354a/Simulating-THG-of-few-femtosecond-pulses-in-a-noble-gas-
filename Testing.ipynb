{
 "cells": [
  {
   "cell_type": "code",
   "execution_count": 23,
   "metadata": {},
   "outputs": [],
   "source": [
    "using Luna \n",
    "import Luna: Hankel\n",
    "import PyPlot:pygui, plt\n",
    "close(\"all\")\n",
    "pygui(true)\n",
    "\n",
    "L = 2e-3 \n",
    "gas = :Ar \n",
    "pres = 0.4\n",
    "\n",
    "\n",
    "Z= (0, L/2, L)        # define points for pressure gradient\n",
    "P= (1e-3, pres, 1e-3) # define values for pressure gradient [constant pressure: P==(pres,pres,pres); simple gradient: P==(pres_edge, pres, pred_edge)]\n",
    "\n",
    "(coren,dens)=Capillary.gradient(gas,Z,P);   # gives n(z) and ρ(z) from pressure profile \n",
    "\n",
    "\n",
    "z = range(0, L,1000);\n",
    "ρ = [dens(i) for i in z]; \n",
    "\n",
    "plt.title(\"Gas density\")\n",
    "plt.plot(z, ρ)\n",
    "plt.show()\n",
    "\n",
    "\n",
    "\n"
   ]
  },
  {
   "cell_type": "code",
   "execution_count": null,
   "metadata": {},
   "outputs": [],
   "source": []
  }
 ],
 "metadata": {
  "kernelspec": {
   "display_name": "Julia 1.9.0",
   "language": "julia",
   "name": "julia-1.9"
  },
  "language_info": {
   "file_extension": ".jl",
   "mimetype": "application/julia",
   "name": "julia",
   "version": "1.9.0"
  },
  "orig_nbformat": 4
 },
 "nbformat": 4,
 "nbformat_minor": 2
}
