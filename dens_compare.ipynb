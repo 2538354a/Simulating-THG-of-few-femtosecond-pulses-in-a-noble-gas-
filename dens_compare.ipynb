{
 "cells": [
  {
   "cell_type": "code",
   "execution_count": 1,
   "metadata": {},
   "outputs": [
    {
     "ename": "UndefVarError",
     "evalue": "UndefVarError: `gas` not defined",
     "output_type": "error",
     "traceback": [
      "UndefVarError: `gas` not defined\n",
      "\n",
      "Stacktrace:\n",
      " [1] top-level scope\n",
      "   @ c:\\Users\\david\\Documents\\Code\\DESY\\dens_compare.ipynb:27"
     ]
    }
   ],
   "source": [
    "using Luna\n",
    "using  DelimitedFiles \n",
    "import PyPlot:pygui, plt\n",
    "close(\"all\")\n",
    "pygui(true)\n",
    "\n",
    "in_dir=\"input\"\n",
    "L = 3e-3\n",
    "\n",
    "p_ed = 1e-3\n",
    "pres= 1.0 \n",
    "gas = :Ar\n",
    "\n",
    "\n",
    "file_ρ    = \"dens_$(pres)bar.dat\"  # name of density profile data file \n",
    "path_ρ    = joinpath(in_dir, file_ρ)                  # sys. path to density profile data file \n",
    "\n",
    "z_in = readdlm(path_ρ,' ', Float64, '\\n')[:,1]        # read in spatial points \n",
    "ρ_in = readdlm(path_ρ,' ', Float64, '\\n')[:,2]        # read in density data \n",
    "\n",
    "dens_coms = Maths.CSpline(z_in, ρ_in)                      # interpolate density function \n",
    "    \n",
    "        \n",
    "    \n",
    "Z= (0, L/2, L)                                        # define points for pressure gradient\n",
    "P= (p_ed, pres, p_ed)  # define values for pressure gradient (see \"p_const\" above)\n",
    "(coren,dens_grad)=Capillary.gradient(gas,Z,P)              # gives n(ω; z) and ρ(z) from pressure profile   \n",
    "       "
   ]
  },
  {
   "cell_type": "code",
   "execution_count": null,
   "metadata": {},
   "outputs": [],
   "source": [
    "dens_coms()"
   ]
  }
 ],
 "metadata": {
  "kernelspec": {
   "display_name": "Julia 1.9.0",
   "language": "julia",
   "name": "julia-1.9"
  },
  "language_info": {
   "file_extension": ".jl",
   "mimetype": "application/julia",
   "name": "julia",
   "version": "1.9.0"
  },
  "orig_nbformat": 4
 },
 "nbformat": 4,
 "nbformat_minor": 2
}
