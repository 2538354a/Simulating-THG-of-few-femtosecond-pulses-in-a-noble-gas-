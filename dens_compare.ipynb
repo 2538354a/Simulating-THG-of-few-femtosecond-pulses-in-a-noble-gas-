{
 "cells": [
  {
   "cell_type": "code",
   "execution_count": 1,
   "metadata": {},
   "outputs": [],
   "source": [
    "using Luna\n",
    "using  DelimitedFiles \n",
    "import PyPlot:pygui, plt\n",
    "close(\"all\")\n",
    "pygui(true)\n",
    "\n",
    "pres= 3.0\n",
    "gas = :Ar\n",
    "\n",
    "in_dir=\"input\"\n",
    "L = 3e-3\n",
    "p_ed = 1e-3\n",
    "\n",
    "file_ρ    = \"dens_$(pres)bar.dat\"  # name of density profile data file \n",
    "path_ρ    = joinpath(in_dir, file_ρ)                  # sys. path to density profile data file \n",
    "\n",
    "z_in = readdlm(path_ρ,' ', Float64, '\\n')[:,1]        # read in spatial points \n",
    "ρ_in = readdlm(path_ρ,' ', Float64, '\\n')[:,2]        # read in density data \n",
    "z_coms0 = maximum(z_in)/2 - 1.5e-3\n",
    "\n",
    "dens_coms = Maths.CSpline(z_in, ρ_in)                      # interpolate density function \n",
    "    \n",
    "Z= (0, L/2, L)                                        # define points for pressure gradient\n",
    "P= (p_ed, pres, p_ed)  # define values for pressure gradient (see \"p_const\" above)\n",
    "(coren,dens_grad)=Capillary.gradient(gas,Z,P)              # gives n(ω; z) and ρ(z) from pressure profile   \n",
    "       \n",
    "zarr = range(0, L, 100)\n",
    "\n",
    "ρ_grad =   [dens_grad(z) for z in zarr]\n",
    "ρ_coms=    [dens_coms(z_coms0+z) for z in zarr]\n",
    "\n",
    "plt.title(\"Comparison of COMSOL and gradient profiles for $(gas) at $(pres)bar\")\n",
    "plt.plot(zarr*1e3, ρ_grad, label=\"gradient\", color=\"grey\")\n",
    "plt.plot(zarr*1e3, ρ_coms, label=\"COMSOL\", color=\"red\")\n",
    "plt.xlabel(\"Cell position (mm)\")\n",
    "plt.ylabel(\"Number density (1/m³)\")\n",
    "plt.legend()\n",
    "plt.savefig(joinpath(\"output\", \"COMS_grad_comp.png\"), dpi=1000)\n",
    "plt.show()\n"
   ]
  },
  {
   "cell_type": "code",
   "execution_count": 33,
   "metadata": {},
   "outputs": [],
   "source": [
    "gas_arr = [:Ar, :Ne, :He, :Kr, :Xe, :N2, :N2O]\n",
    "dens_grad_arr = [Capillary.gradient(gas,Z,P)[2] for gas in gas_arr]\n",
    "c_arr = [\"black\", \"grey\", \"blue\", \"cyan\", \"orange\", \"green\", \"purple\"]\n",
    "\n",
    "plt.title(\"Comparison of different gas profiles at $(pres)bar\")\n",
    "plt.xlabel(\"Cell position (mm)\")\n",
    "plt.ylabel(\"Number density (1/m³)\")\n",
    "for i in 1:length(gas_arr)\n",
    "    ρ_grad = [dens_grad_arr[i](z) for z in zarr]\n",
    "    plt.plot(zarr*1e3, ρ_grad, label=\"$(gas_arr[i])\", color=c_arr[i])\n",
    "end   \n",
    "plt.plot(zarr*1e3, ρ_coms, label=\"COMSOL\", color=\"red\")\n",
    "plt.legend()\n",
    "plt.savefig(joinpath(\"output\", \"gas_dens_comp.png\"), dpi=1000)\n",
    "plt.show()\n"
   ]
  },
  {
   "cell_type": "code",
   "execution_count": null,
   "metadata": {},
   "outputs": [],
   "source": []
  }
 ],
 "metadata": {
  "kernelspec": {
   "display_name": "Julia 1.9.0",
   "language": "julia",
   "name": "julia-1.9"
  },
  "language_info": {
   "file_extension": ".jl",
   "mimetype": "application/julia",
   "name": "julia",
   "version": "1.9.0"
  },
  "orig_nbformat": 4
 },
 "nbformat": 4,
 "nbformat_minor": 2
}
