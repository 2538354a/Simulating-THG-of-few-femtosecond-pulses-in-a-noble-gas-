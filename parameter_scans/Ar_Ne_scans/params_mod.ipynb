{
 "cells": [
  {
   "cell_type": "code",
   "execution_count": 9,
   "metadata": {},
   "outputs": [],
   "source": [
    "import numpy as np\n",
    "import os \n",
    "\n",
    "for path in os.listdir(\".\"):\n",
    "\n",
    "    if path != \"params_mod.ipynb\" and path !=\"SCANS.txt\":\n",
    "\n",
    "        params = np.loadtxt(os.path.join(path,\"params.txt\"),dtype=\"str\", delimiter=\"=\", comments=\"#\")\n",
    "\n",
    "        params[2,0] = \"dens_mod\"\n",
    "        params[2,1] = \" grad\" \n",
    "        params[6,0] = \"CEP     \"\n",
    "        params[3,1] = \" \"+str(6.18e-15)\n",
    "\n",
    "        params = np.append(params, np.array([[\"propz   \", \" \"+str(-0.0015)],]) ,axis=0)\n",
    "        params = np.append(params, np.array([[\"GVD     \", \" \"+str(0.0)],]) ,axis=0)\n",
    "        params = np.append(params, np.array([[\"thickness\", \" \"+str(0.0)],]) ,axis=0)\n",
    "        params = np.append(params, np.array([[\"ion_mod \", \" PPT\"],]) ,axis=0)\n",
    "\n",
    "        np.savetxt(os.path.join(path, \"params.txt\"),params,fmt=\"%1s\", delimiter=\"=\")"
   ]
  },
  {
   "cell_type": "code",
   "execution_count": null,
   "metadata": {},
   "outputs": [],
   "source": []
  }
 ],
 "metadata": {
  "kernelspec": {
   "display_name": "Python 3",
   "language": "python",
   "name": "python3"
  },
  "language_info": {
   "codemirror_mode": {
    "name": "ipython",
    "version": 3
   },
   "file_extension": ".py",
   "mimetype": "text/x-python",
   "name": "python",
   "nbconvert_exporter": "python",
   "pygments_lexer": "ipython3",
   "version": "3.9.13"
  },
  "orig_nbformat": 4
 },
 "nbformat": 4,
 "nbformat_minor": 2
}
